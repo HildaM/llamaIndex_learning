{
 "cells": [
  {
   "cell_type": "markdown",
   "metadata": {},
   "source": [
    "# QuestionGeneration 评估问题生成与评估"
   ]
  },
  {
   "cell_type": "markdown",
   "metadata": {},
   "source": [
    "以下代码将示范如何通过 llamaindex 生成一系列针对给定文本数据的“问题”。这些问题对于 FaithfulnessEvaluator 和 RelevancyEvaluator 评估工具有极大帮助"
   ]
  },
  {
   "cell_type": "markdown",
   "metadata": {},
   "source": [
    "## 环境配置\n",
    "\n",
    "本次实验的环境完全在本地执行，运行LLM的软件是 LM Studio，它能提供类似 OpenAI API 接口，这样方便其他人使用 OpenAI API 进行复现。具体配置：\n",
    "- LLM 模型是 mistral-7b-instruct-v0.2.Q6_K\n",
    "- Embeddeding 模型：BAAI/bge-base-en-v1.5"
   ]
  },
  {
   "cell_type": "code",
   "execution_count": 2,
   "metadata": {},
   "outputs": [
    {
     "name": "stdout",
     "output_type": "stream",
     "text": [
      "Requirement already satisfied: llama-index in d:\\applications\\miniconda3\\envs\\llamaindex-learning\\lib\\site-packages (0.9.46)\n",
      "Requirement already satisfied: SQLAlchemy>=1.4.49 in d:\\applications\\miniconda3\\envs\\llamaindex-learning\\lib\\site-packages (from SQLAlchemy[asyncio]>=1.4.49->llama-index) (2.0.25)\n",
      "Requirement already satisfied: aiohttp<4.0.0,>=3.8.6 in d:\\applications\\miniconda3\\envs\\llamaindex-learning\\lib\\site-packages (from llama-index) (3.9.3)\n",
      "Requirement already satisfied: dataclasses-json in d:\\applications\\miniconda3\\envs\\llamaindex-learning\\lib\\site-packages (from llama-index) (0.6.4)\n",
      "Requirement already satisfied: deprecated>=1.2.9.3 in d:\\applications\\miniconda3\\envs\\llamaindex-learning\\lib\\site-packages (from llama-index) (1.2.14)\n",
      "Requirement already satisfied: dirtyjson<2.0.0,>=1.0.8 in d:\\applications\\miniconda3\\envs\\llamaindex-learning\\lib\\site-packages (from llama-index) (1.0.8)\n",
      "Requirement already satisfied: fsspec>=2023.5.0 in d:\\applications\\miniconda3\\envs\\llamaindex-learning\\lib\\site-packages (from llama-index) (2024.2.0)\n",
      "Requirement already satisfied: httpx in d:\\applications\\miniconda3\\envs\\llamaindex-learning\\lib\\site-packages (from llama-index) (0.26.0)\n",
      "Requirement already satisfied: nest-asyncio<2.0.0,>=1.5.8 in d:\\applications\\miniconda3\\envs\\llamaindex-learning\\lib\\site-packages (from llama-index) (1.6.0)\n",
      "Requirement already satisfied: networkx>=3.0 in d:\\applications\\miniconda3\\envs\\llamaindex-learning\\lib\\site-packages (from llama-index) (3.2.1)\n",
      "Requirement already satisfied: nltk<4.0.0,>=3.8.1 in d:\\applications\\miniconda3\\envs\\llamaindex-learning\\lib\\site-packages (from llama-index) (3.8.1)\n",
      "Requirement already satisfied: numpy in d:\\applications\\miniconda3\\envs\\llamaindex-learning\\lib\\site-packages (from llama-index) (1.26.4)\n",
      "Requirement already satisfied: openai>=1.1.0 in d:\\applications\\miniconda3\\envs\\llamaindex-learning\\lib\\site-packages (from llama-index) (1.12.0)\n",
      "Requirement already satisfied: pandas in d:\\applications\\miniconda3\\envs\\llamaindex-learning\\lib\\site-packages (from llama-index) (2.2.0)\n",
      "Requirement already satisfied: requests>=2.31.0 in d:\\applications\\miniconda3\\envs\\llamaindex-learning\\lib\\site-packages (from llama-index) (2.31.0)\n",
      "Requirement already satisfied: tenacity<9.0.0,>=8.2.0 in d:\\applications\\miniconda3\\envs\\llamaindex-learning\\lib\\site-packages (from llama-index) (8.2.3)\n",
      "Requirement already satisfied: tiktoken>=0.3.3 in d:\\applications\\miniconda3\\envs\\llamaindex-learning\\lib\\site-packages (from llama-index) (0.6.0)\n",
      "Requirement already satisfied: typing-extensions>=4.5.0 in d:\\applications\\miniconda3\\envs\\llamaindex-learning\\lib\\site-packages (from llama-index) (4.9.0)\n",
      "Requirement already satisfied: typing-inspect>=0.8.0 in d:\\applications\\miniconda3\\envs\\llamaindex-learning\\lib\\site-packages (from llama-index) (0.9.0)\n",
      "Requirement already satisfied: aiosignal>=1.1.2 in d:\\applications\\miniconda3\\envs\\llamaindex-learning\\lib\\site-packages (from aiohttp<4.0.0,>=3.8.6->llama-index) (1.3.1)\n",
      "Requirement already satisfied: attrs>=17.3.0 in d:\\applications\\miniconda3\\envs\\llamaindex-learning\\lib\\site-packages (from aiohttp<4.0.0,>=3.8.6->llama-index) (23.2.0)\n",
      "Requirement already satisfied: frozenlist>=1.1.1 in d:\\applications\\miniconda3\\envs\\llamaindex-learning\\lib\\site-packages (from aiohttp<4.0.0,>=3.8.6->llama-index) (1.4.1)\n",
      "Requirement already satisfied: multidict<7.0,>=4.5 in d:\\applications\\miniconda3\\envs\\llamaindex-learning\\lib\\site-packages (from aiohttp<4.0.0,>=3.8.6->llama-index) (6.0.5)\n",
      "Requirement already satisfied: yarl<2.0,>=1.0 in d:\\applications\\miniconda3\\envs\\llamaindex-learning\\lib\\site-packages (from aiohttp<4.0.0,>=3.8.6->llama-index) (1.9.4)\n",
      "Requirement already satisfied: wrapt<2,>=1.10 in d:\\applications\\miniconda3\\envs\\llamaindex-learning\\lib\\site-packages (from deprecated>=1.2.9.3->llama-index) (1.16.0)\n",
      "Requirement already satisfied: click in d:\\applications\\miniconda3\\envs\\llamaindex-learning\\lib\\site-packages (from nltk<4.0.0,>=3.8.1->llama-index) (8.1.7)\n",
      "Requirement already satisfied: joblib in d:\\applications\\miniconda3\\envs\\llamaindex-learning\\lib\\site-packages (from nltk<4.0.0,>=3.8.1->llama-index) (1.3.2)\n",
      "Requirement already satisfied: regex>=2021.8.3 in d:\\applications\\miniconda3\\envs\\llamaindex-learning\\lib\\site-packages (from nltk<4.0.0,>=3.8.1->llama-index) (2023.12.25)\n",
      "Requirement already satisfied: tqdm in d:\\applications\\miniconda3\\envs\\llamaindex-learning\\lib\\site-packages (from nltk<4.0.0,>=3.8.1->llama-index) (4.66.2)\n",
      "Requirement already satisfied: anyio<5,>=3.5.0 in d:\\applications\\miniconda3\\envs\\llamaindex-learning\\lib\\site-packages (from openai>=1.1.0->llama-index) (4.2.0)\n",
      "Requirement already satisfied: distro<2,>=1.7.0 in d:\\applications\\miniconda3\\envs\\llamaindex-learning\\lib\\site-packages (from openai>=1.1.0->llama-index) (1.9.0)\n",
      "Requirement already satisfied: pydantic<3,>=1.9.0 in d:\\applications\\miniconda3\\envs\\llamaindex-learning\\lib\\site-packages (from openai>=1.1.0->llama-index) (2.6.1)\n",
      "Requirement already satisfied: sniffio in d:\\applications\\miniconda3\\envs\\llamaindex-learning\\lib\\site-packages (from openai>=1.1.0->llama-index) (1.3.0)\n",
      "Requirement already satisfied: certifi in d:\\applications\\miniconda3\\envs\\llamaindex-learning\\lib\\site-packages (from httpx->llama-index) (2024.2.2)\n",
      "Requirement already satisfied: httpcore==1.* in d:\\applications\\miniconda3\\envs\\llamaindex-learning\\lib\\site-packages (from httpx->llama-index) (1.0.2)\n",
      "Requirement already satisfied: idna in d:\\applications\\miniconda3\\envs\\llamaindex-learning\\lib\\site-packages (from httpx->llama-index) (3.6)\n",
      "Requirement already satisfied: h11<0.15,>=0.13 in d:\\applications\\miniconda3\\envs\\llamaindex-learning\\lib\\site-packages (from httpcore==1.*->httpx->llama-index) (0.14.0)\n",
      "Requirement already satisfied: charset-normalizer<4,>=2 in d:\\applications\\miniconda3\\envs\\llamaindex-learning\\lib\\site-packages (from requests>=2.31.0->llama-index) (3.3.2)\n",
      "Requirement already satisfied: urllib3<3,>=1.21.1 in d:\\applications\\miniconda3\\envs\\llamaindex-learning\\lib\\site-packages (from requests>=2.31.0->llama-index) (2.2.0)\n",
      "Requirement already satisfied: greenlet!=0.4.17 in d:\\applications\\miniconda3\\envs\\llamaindex-learning\\lib\\site-packages (from SQLAlchemy>=1.4.49->SQLAlchemy[asyncio]>=1.4.49->llama-index) (3.0.3)\n",
      "Requirement already satisfied: mypy-extensions>=0.3.0 in d:\\applications\\miniconda3\\envs\\llamaindex-learning\\lib\\site-packages (from typing-inspect>=0.8.0->llama-index) (1.0.0)\n",
      "Requirement already satisfied: marshmallow<4.0.0,>=3.18.0 in d:\\applications\\miniconda3\\envs\\llamaindex-learning\\lib\\site-packages (from dataclasses-json->llama-index) (3.20.2)\n",
      "Requirement already satisfied: python-dateutil>=2.8.2 in d:\\applications\\miniconda3\\envs\\llamaindex-learning\\lib\\site-packages (from pandas->llama-index) (2.8.2)\n",
      "Requirement already satisfied: pytz>=2020.1 in d:\\applications\\miniconda3\\envs\\llamaindex-learning\\lib\\site-packages (from pandas->llama-index) (2024.1)\n",
      "Requirement already satisfied: tzdata>=2022.7 in d:\\applications\\miniconda3\\envs\\llamaindex-learning\\lib\\site-packages (from pandas->llama-index) (2023.4)\n",
      "Requirement already satisfied: packaging>=17.0 in d:\\applications\\miniconda3\\envs\\llamaindex-learning\\lib\\site-packages (from marshmallow<4.0.0,>=3.18.0->dataclasses-json->llama-index) (23.2)\n",
      "Requirement already satisfied: annotated-types>=0.4.0 in d:\\applications\\miniconda3\\envs\\llamaindex-learning\\lib\\site-packages (from pydantic<3,>=1.9.0->openai>=1.1.0->llama-index) (0.6.0)\n",
      "Requirement already satisfied: pydantic-core==2.16.2 in d:\\applications\\miniconda3\\envs\\llamaindex-learning\\lib\\site-packages (from pydantic<3,>=1.9.0->openai>=1.1.0->llama-index) (2.16.2)\n",
      "Requirement already satisfied: six>=1.5 in d:\\applications\\miniconda3\\envs\\llamaindex-learning\\lib\\site-packages (from python-dateutil>=2.8.2->pandas->llama-index) (1.16.0)\n",
      "Requirement already satisfied: colorama in d:\\applications\\miniconda3\\envs\\llamaindex-learning\\lib\\site-packages (from tqdm->nltk<4.0.0,>=3.8.1->llama-index) (0.4.6)\n",
      "Note: you may need to restart the kernel to use updated packages.\n",
      "Requirement already satisfied: pandas in d:\\applications\\miniconda3\\envs\\llamaindex-learning\\lib\\site-packages (2.2.0)\n",
      "Requirement already satisfied: numpy<2,>=1.23.2 in d:\\applications\\miniconda3\\envs\\llamaindex-learning\\lib\\site-packages (from pandas) (1.26.4)\n",
      "Requirement already satisfied: python-dateutil>=2.8.2 in d:\\applications\\miniconda3\\envs\\llamaindex-learning\\lib\\site-packages (from pandas) (2.8.2)\n",
      "Requirement already satisfied: pytz>=2020.1 in d:\\applications\\miniconda3\\envs\\llamaindex-learning\\lib\\site-packages (from pandas) (2024.1)\n",
      "Requirement already satisfied: tzdata>=2022.7 in d:\\applications\\miniconda3\\envs\\llamaindex-learning\\lib\\site-packages (from pandas) (2023.4)\n",
      "Requirement already satisfied: six>=1.5 in d:\\applications\\miniconda3\\envs\\llamaindex-learning\\lib\\site-packages (from python-dateutil>=2.8.2->pandas) (1.16.0)\n",
      "Note: you may need to restart the kernel to use updated packages.\n",
      "Requirement already satisfied: spacy in d:\\applications\\miniconda3\\envs\\llamaindex-learning\\lib\\site-packages (3.7.2)\n",
      "Requirement already satisfied: spacy-legacy<3.1.0,>=3.0.11 in d:\\applications\\miniconda3\\envs\\llamaindex-learning\\lib\\site-packages (from spacy) (3.0.12)\n",
      "Requirement already satisfied: spacy-loggers<2.0.0,>=1.0.0 in d:\\applications\\miniconda3\\envs\\llamaindex-learning\\lib\\site-packages (from spacy) (1.0.5)\n",
      "Requirement already satisfied: murmurhash<1.1.0,>=0.28.0 in d:\\applications\\miniconda3\\envs\\llamaindex-learning\\lib\\site-packages (from spacy) (1.0.10)\n",
      "Requirement already satisfied: cymem<2.1.0,>=2.0.2 in d:\\applications\\miniconda3\\envs\\llamaindex-learning\\lib\\site-packages (from spacy) (2.0.8)\n",
      "Requirement already satisfied: preshed<3.1.0,>=3.0.2 in d:\\applications\\miniconda3\\envs\\llamaindex-learning\\lib\\site-packages (from spacy) (3.0.9)\n",
      "Requirement already satisfied: thinc<8.3.0,>=8.1.8 in d:\\applications\\miniconda3\\envs\\llamaindex-learning\\lib\\site-packages (from spacy) (8.2.3)\n",
      "Requirement already satisfied: wasabi<1.2.0,>=0.9.1 in d:\\applications\\miniconda3\\envs\\llamaindex-learning\\lib\\site-packages (from spacy) (1.1.2)\n",
      "Requirement already satisfied: srsly<3.0.0,>=2.4.3 in d:\\applications\\miniconda3\\envs\\llamaindex-learning\\lib\\site-packages (from spacy) (2.4.8)\n",
      "Requirement already satisfied: catalogue<2.1.0,>=2.0.6 in d:\\applications\\miniconda3\\envs\\llamaindex-learning\\lib\\site-packages (from spacy) (2.0.10)\n",
      "Requirement already satisfied: weasel<0.4.0,>=0.1.0 in d:\\applications\\miniconda3\\envs\\llamaindex-learning\\lib\\site-packages (from spacy) (0.3.4)\n",
      "Requirement already satisfied: typer<0.10.0,>=0.3.0 in d:\\applications\\miniconda3\\envs\\llamaindex-learning\\lib\\site-packages (from spacy) (0.9.0)\n",
      "Requirement already satisfied: smart-open<7.0.0,>=5.2.1 in d:\\applications\\miniconda3\\envs\\llamaindex-learning\\lib\\site-packages (from spacy) (6.4.0)\n",
      "Requirement already satisfied: tqdm<5.0.0,>=4.38.0 in d:\\applications\\miniconda3\\envs\\llamaindex-learning\\lib\\site-packages (from spacy) (4.66.2)\n",
      "Requirement already satisfied: requests<3.0.0,>=2.13.0 in d:\\applications\\miniconda3\\envs\\llamaindex-learning\\lib\\site-packages (from spacy) (2.31.0)\n",
      "Requirement already satisfied: pydantic!=1.8,!=1.8.1,<3.0.0,>=1.7.4 in d:\\applications\\miniconda3\\envs\\llamaindex-learning\\lib\\site-packages (from spacy) (2.6.1)\n",
      "Requirement already satisfied: jinja2 in d:\\applications\\miniconda3\\envs\\llamaindex-learning\\lib\\site-packages (from spacy) (3.1.2)\n",
      "Requirement already satisfied: setuptools in d:\\applications\\miniconda3\\envs\\llamaindex-learning\\lib\\site-packages (from spacy) (68.2.2)\n",
      "Requirement already satisfied: packaging>=20.0 in d:\\applications\\miniconda3\\envs\\llamaindex-learning\\lib\\site-packages (from spacy) (23.2)\n",
      "Requirement already satisfied: langcodes<4.0.0,>=3.2.0 in d:\\applications\\miniconda3\\envs\\llamaindex-learning\\lib\\site-packages (from spacy) (3.3.0)\n",
      "Requirement already satisfied: numpy>=1.19.0 in d:\\applications\\miniconda3\\envs\\llamaindex-learning\\lib\\site-packages (from spacy) (1.26.4)\n",
      "Requirement already satisfied: annotated-types>=0.4.0 in d:\\applications\\miniconda3\\envs\\llamaindex-learning\\lib\\site-packages (from pydantic!=1.8,!=1.8.1,<3.0.0,>=1.7.4->spacy) (0.6.0)\n",
      "Requirement already satisfied: pydantic-core==2.16.2 in d:\\applications\\miniconda3\\envs\\llamaindex-learning\\lib\\site-packages (from pydantic!=1.8,!=1.8.1,<3.0.0,>=1.7.4->spacy) (2.16.2)\n",
      "Requirement already satisfied: typing-extensions>=4.6.1 in d:\\applications\\miniconda3\\envs\\llamaindex-learning\\lib\\site-packages (from pydantic!=1.8,!=1.8.1,<3.0.0,>=1.7.4->spacy) (4.9.0)\n",
      "Requirement already satisfied: charset-normalizer<4,>=2 in d:\\applications\\miniconda3\\envs\\llamaindex-learning\\lib\\site-packages (from requests<3.0.0,>=2.13.0->spacy) (3.3.2)\n",
      "Requirement already satisfied: idna<4,>=2.5 in d:\\applications\\miniconda3\\envs\\llamaindex-learning\\lib\\site-packages (from requests<3.0.0,>=2.13.0->spacy) (3.6)\n",
      "Requirement already satisfied: urllib3<3,>=1.21.1 in d:\\applications\\miniconda3\\envs\\llamaindex-learning\\lib\\site-packages (from requests<3.0.0,>=2.13.0->spacy) (2.2.0)\n",
      "Requirement already satisfied: certifi>=2017.4.17 in d:\\applications\\miniconda3\\envs\\llamaindex-learning\\lib\\site-packages (from requests<3.0.0,>=2.13.0->spacy) (2024.2.2)\n",
      "Requirement already satisfied: blis<0.8.0,>=0.7.8 in d:\\applications\\miniconda3\\envs\\llamaindex-learning\\lib\\site-packages (from thinc<8.3.0,>=8.1.8->spacy) (0.7.11)\n",
      "Requirement already satisfied: confection<1.0.0,>=0.0.1 in d:\\applications\\miniconda3\\envs\\llamaindex-learning\\lib\\site-packages (from thinc<8.3.0,>=8.1.8->spacy) (0.1.4)\n",
      "Requirement already satisfied: colorama in d:\\applications\\miniconda3\\envs\\llamaindex-learning\\lib\\site-packages (from tqdm<5.0.0,>=4.38.0->spacy) (0.4.6)\n",
      "Requirement already satisfied: click<9.0.0,>=7.1.1 in d:\\applications\\miniconda3\\envs\\llamaindex-learning\\lib\\site-packages (from typer<0.10.0,>=0.3.0->spacy) (8.1.7)\n",
      "Requirement already satisfied: cloudpathlib<0.17.0,>=0.7.0 in d:\\applications\\miniconda3\\envs\\llamaindex-learning\\lib\\site-packages (from weasel<0.4.0,>=0.1.0->spacy) (0.16.0)\n",
      "Requirement already satisfied: MarkupSafe>=2.0 in d:\\applications\\miniconda3\\envs\\llamaindex-learning\\lib\\site-packages (from jinja2->spacy) (2.1.3)\n",
      "Note: you may need to restart the kernel to use updated packages.\n"
     ]
    }
   ],
   "source": [
    "%pip install llama-index\n",
    "%pip install pandas \n",
    "%pip install spacy"
   ]
  },
  {
   "cell_type": "code",
   "execution_count": 3,
   "metadata": {},
   "outputs": [],
   "source": [
    "# The nest_asyncio module enables the nesting of asynchronous functions within an already running async loop.\n",
    "# This is necessary because Jupyter notebooks inherently operate in an asynchronous loop.\n",
    "# By applying nest_asyncio, we can run additional async functions within this existing loop without conflicts.\n",
    "import nest_asyncio\n",
    "\n",
    "nest_asyncio.apply()"
   ]
  },
  {
   "cell_type": "code",
   "execution_count": 4,
   "metadata": {},
   "outputs": [],
   "source": [
    "import logging\n",
    "import sys\n",
    "import pandas as pd\n",
    "\n",
    "logging.basicConfig(stream=sys.stdout, level=logging.INFO)\n",
    "logging.getLogger().addHandler(logging.StreamHandler(stream=sys.stdout))"
   ]
  },
  {
   "cell_type": "code",
   "execution_count": 5,
   "metadata": {},
   "outputs": [],
   "source": [
    "from llama_index.evaluation import DatasetGenerator, RelevancyEvaluator, FaithfulnessEvaluator\n",
    "from llama_index import (\n",
    "    SimpleDirectoryReader,\n",
    "    VectorStoreIndex,\n",
    "    ServiceContext,\n",
    "    Response,\n",
    ")\n",
    "from llama_index.embeddings import resolve_embed_model\n",
    "from llama_index.llms import OpenAI"
   ]
  },
  {
   "cell_type": "markdown",
   "metadata": {},
   "source": [
    "## 加载本地模型"
   ]
  },
  {
   "cell_type": "code",
   "execution_count": 7,
   "metadata": {},
   "outputs": [],
   "source": [
    "# bge-m3 embedding model\n",
    "# https://huggingface.co/BAAI/bge-base-en-v1.5/tree/main\n",
    "embed_model = resolve_embed_model(\"local:BAAI/bge-base-en-v1.5\")\n",
    "\n",
    "# Load LM Studio LLM model\n",
    "llm = OpenAI(api_base=\"http://localhost:1234/v1\", api_key=\"not-needed\")\n",
    "\n",
    "# Index the data\n",
    "service_context = ServiceContext.from_defaults(\n",
    "    embed_model=embed_model, llm=llm,\n",
    ")"
   ]
  },
  {
   "cell_type": "markdown",
   "metadata": {},
   "source": [
    "## 加载本地数据"
   ]
  },
  {
   "cell_type": "code",
   "execution_count": 8,
   "metadata": {},
   "outputs": [],
   "source": [
    "documents = SimpleDirectoryReader(\"data\").load_data()"
   ]
  },
  {
   "cell_type": "code",
   "execution_count": 9,
   "metadata": {},
   "outputs": [
    {
     "name": "stderr",
     "output_type": "stream",
     "text": [
      "d:\\Applications\\Miniconda3\\envs\\llamaindex-learning\\Lib\\site-packages\\llama_index\\evaluation\\dataset_generation.py:184: DeprecationWarning: Call to deprecated class DatasetGenerator. (Deprecated in favor of `RagDatasetGenerator` which should be used instead.)\n",
      "  return cls(\n"
     ]
    }
   ],
   "source": [
    "data_generator = DatasetGenerator.from_documents(documents, service_context=service_context)"
   ]
  },
  {
   "cell_type": "code",
   "execution_count": 10,
   "metadata": {},
   "outputs": [
    {
     "name": "stdout",
     "output_type": "stream",
     "text": [
      "INFO:httpx:HTTP Request: POST http://localhost:1234/v1/chat/completions \"HTTP/1.1 200 OK\"\n",
      "HTTP Request: POST http://localhost:1234/v1/chat/completions \"HTTP/1.1 200 OK\"\n",
      "INFO:httpx:HTTP Request: POST http://localhost:1234/v1/chat/completions \"HTTP/1.1 200 OK\"\n",
      "HTTP Request: POST http://localhost:1234/v1/chat/completions \"HTTP/1.1 200 OK\"\n",
      "INFO:httpx:HTTP Request: POST http://localhost:1234/v1/chat/completions \"HTTP/1.1 200 OK\"\n",
      "HTTP Request: POST http://localhost:1234/v1/chat/completions \"HTTP/1.1 200 OK\"\n",
      "INFO:httpx:HTTP Request: POST http://localhost:1234/v1/chat/completions \"HTTP/1.1 200 OK\"\n",
      "HTTP Request: POST http://localhost:1234/v1/chat/completions \"HTTP/1.1 200 OK\"\n",
      "INFO:httpx:HTTP Request: POST http://localhost:1234/v1/chat/completions \"HTTP/1.1 200 OK\"\n",
      "HTTP Request: POST http://localhost:1234/v1/chat/completions \"HTTP/1.1 200 OK\"\n",
      "INFO:httpx:HTTP Request: POST http://localhost:1234/v1/chat/completions \"HTTP/1.1 200 OK\"\n",
      "HTTP Request: POST http://localhost:1234/v1/chat/completions \"HTTP/1.1 200 OK\"\n",
      "INFO:httpx:HTTP Request: POST http://localhost:1234/v1/chat/completions \"HTTP/1.1 200 OK\"\n",
      "HTTP Request: POST http://localhost:1234/v1/chat/completions \"HTTP/1.1 200 OK\"\n",
      "INFO:httpx:HTTP Request: POST http://localhost:1234/v1/chat/completions \"HTTP/1.1 200 OK\"\n",
      "HTTP Request: POST http://localhost:1234/v1/chat/completions \"HTTP/1.1 200 OK\"\n",
      "INFO:httpx:HTTP Request: POST http://localhost:1234/v1/chat/completions \"HTTP/1.1 200 OK\"\n",
      "HTTP Request: POST http://localhost:1234/v1/chat/completions \"HTTP/1.1 200 OK\"\n",
      "INFO:httpx:HTTP Request: POST http://localhost:1234/v1/chat/completions \"HTTP/1.1 200 OK\"\n",
      "HTTP Request: POST http://localhost:1234/v1/chat/completions \"HTTP/1.1 200 OK\"\n",
      "INFO:httpx:HTTP Request: POST http://localhost:1234/v1/chat/completions \"HTTP/1.1 200 OK\"\n",
      "HTTP Request: POST http://localhost:1234/v1/chat/completions \"HTTP/1.1 200 OK\"\n",
      "INFO:httpx:HTTP Request: POST http://localhost:1234/v1/chat/completions \"HTTP/1.1 200 OK\"\n",
      "HTTP Request: POST http://localhost:1234/v1/chat/completions \"HTTP/1.1 200 OK\"\n",
      "INFO:httpx:HTTP Request: POST http://localhost:1234/v1/chat/completions \"HTTP/1.1 200 OK\"\n",
      "HTTP Request: POST http://localhost:1234/v1/chat/completions \"HTTP/1.1 200 OK\"\n",
      "INFO:httpx:HTTP Request: POST http://localhost:1234/v1/chat/completions \"HTTP/1.1 200 OK\"\n",
      "HTTP Request: POST http://localhost:1234/v1/chat/completions \"HTTP/1.1 200 OK\"\n",
      "INFO:httpx:HTTP Request: POST http://localhost:1234/v1/chat/completions \"HTTP/1.1 200 OK\"\n",
      "HTTP Request: POST http://localhost:1234/v1/chat/completions \"HTTP/1.1 200 OK\"\n",
      "INFO:httpx:HTTP Request: POST http://localhost:1234/v1/chat/completions \"HTTP/1.1 200 OK\"\n",
      "HTTP Request: POST http://localhost:1234/v1/chat/completions \"HTTP/1.1 200 OK\"\n",
      "INFO:httpx:HTTP Request: POST http://localhost:1234/v1/chat/completions \"HTTP/1.1 200 OK\"\n",
      "HTTP Request: POST http://localhost:1234/v1/chat/completions \"HTTP/1.1 200 OK\"\n",
      "INFO:httpx:HTTP Request: POST http://localhost:1234/v1/chat/completions \"HTTP/1.1 200 OK\"\n",
      "HTTP Request: POST http://localhost:1234/v1/chat/completions \"HTTP/1.1 200 OK\"\n",
      "INFO:httpx:HTTP Request: POST http://localhost:1234/v1/chat/completions \"HTTP/1.1 200 OK\"\n",
      "HTTP Request: POST http://localhost:1234/v1/chat/completions \"HTTP/1.1 200 OK\"\n",
      "INFO:httpx:HTTP Request: POST http://localhost:1234/v1/chat/completions \"HTTP/1.1 200 OK\"\n",
      "HTTP Request: POST http://localhost:1234/v1/chat/completions \"HTTP/1.1 200 OK\"\n",
      "INFO:httpx:HTTP Request: POST http://localhost:1234/v1/chat/completions \"HTTP/1.1 200 OK\"\n",
      "HTTP Request: POST http://localhost:1234/v1/chat/completions \"HTTP/1.1 200 OK\"\n"
     ]
    },
    {
     "name": "stderr",
     "output_type": "stream",
     "text": [
      "d:\\Applications\\Miniconda3\\envs\\llamaindex-learning\\Lib\\site-packages\\llama_index\\evaluation\\dataset_generation.py:279: DeprecationWarning: Call to deprecated class QueryResponseDataset. (Deprecated in favor of `LabelledRagDataset` which should be used instead.)\n",
      "  return QueryResponseDataset(queries=queries, responses=responses_dict)\n"
     ]
    }
   ],
   "source": [
    "eval_questions = data_generator.generate_questions_from_nodes()"
   ]
  },
  {
   "cell_type": "code",
   "execution_count": 11,
   "metadata": {},
   "outputs": [
    {
     "data": {
      "text/plain": [
       "['In what year did Paul Graham first encounter a computer and start writing programs?',\n",
       " \"What type of machine was Paul Graham's first experience with computing on?\",\n",
       " 'What programming language did Paul Graham use when he first started coding?',\n",
       " 'Why was Paul Graham unable to write interesting programs on the IBM 1401?',\n",
       " 'When did Paul Graham get his first microcomputer and what make/model was it?',\n",
       " \"What did Paul's father use the word processor program for?\",\n",
       " 'Why did Paul switch from studying philosophy in college to Artificial Intelligence (AI)?',\n",
       " 'What two things inspired Paul to pursue a career in AI during the mid 1980s?',\n",
       " 'In what year did Paul attend college and start taking philosophy courses?',\n",
       " 'How did Paul describe his experience with philosophy courses in college?',\n",
       " 'In what year did Paul Graham first become interested in Artificial Intelligence (AI)?',\n",
       " \"What two things specifically sparked Paul Graham's interest in AI?\",\n",
       " 'Which language did Paul Graham learn to teach himself AI, and why was it chosen?',\n",
       " 'What was the name of the undergraduate thesis project Paul Graham worked on in AI?',\n",
       " 'Why did Paul Graham choose to focus on Lisp after realizing that the way AI was being practiced at the time was a hoax?',\n",
       " 'In which university did Paul Graham pursue his graduate studies in Artificial Intelligence?',\n",
       " \"What was Paul Graham's belief about the capabilities of SHRDLU when he reverse-engineered it for his undergraduate thesis?\",\n",
       " 'Why did Paul Graham find the quotes around \"Artificial Intelligence\" on his degree amusing?',\n",
       " 'Which three universities did Paul Graham apply to for graduate studies in AI?',\n",
       " 'What was the title of the book Paul Graham wrote about Lisp hacking, and when was it published?',\n",
       " 'In what year did Paul Graham start taking art classes at Harvard?',\n",
       " \"What was Paul Graham's initial motivation for wanting to become an artist?\",\n",
       " \"Why did Paul Graham find the idea of making art 'miraculous'?\",\n",
       " \"What was Paul Graham's advisor's name and what was his attitude towards Paul's diverse projects?\",\n",
       " 'In which year did Paul Graham graduate from his PhD program in computer science?',\n",
       " \"What was Paul Graham's initial plan before he decided to write a book about Lisp hacking?\",\n",
       " 'Why did Paul Graham find systems work unsatisfying?',\n",
       " 'How long did it take Paul Graham to decide to write his dissertation and graduate?',\n",
       " 'What was the title of the painting that inspired Paul Graham to consider becoming an artist?',\n",
       " 'In what ways could an artist be truly independent according to Paul Graham?',\n",
       " 'In what year did Paul Graham graduate from grad school and submit his dissertation?',\n",
       " 'What topic did Paul Graham choose for his dissertation at the last minute?',\n",
       " 'Where did Paul Graham apply for art schools after leaving grad school?',\n",
       " \"Which art school accepted Paul Graham, and which one didn't respond?\",\n",
       " 'Why did Paul Graham have to go through the foundation program again at RISD?',\n",
       " 'What was unusual about the entrance exam process for foreigners at the Accademia?',\n",
       " 'How did the students and faculty in the painting department at the Accademia spend their time?',\n",
       " 'What did the model at the Accademia do to make a living besides modeling?',\n",
       " 'Why were the students at the Accademia more interested in American art magazines than learning from their professors?',\n",
       " \"Describe the setting of Paul Graham's bedroom where he painted still lives at night.\",\n",
       " 'In what year did the author begin studying at the Accademia?',\n",
       " 'What was the name of their teacher at the Accademia, professor Ulivi?',\n",
       " 'What did the students typically do during art classes instead of painting?',\n",
       " 'How did the model make a living besides modelling for the art classes?',\n",
       " 'What is the traditional method for painting people according to the author?',\n",
       " 'Why does the author prefer painting still lives over painting people?',\n",
       " 'What was the name of the company where the author worked after leaving the Accademia?',\n",
       " 'What did Interleaf do that was considered bold in the software industry at the time?',\n",
       " 'What language did Interleaf want the author to write things in for their software?',\n",
       " 'Why did the author find it difficult to work as an employee at Interleaf?',\n",
       " 'What year did the author start working at Interleaf?',\n",
       " 'What programming language was used by Interleaf for scripting?',\n",
       " 'Why did Paul Graham consider himself a bad employee at Interleaf?',\n",
       " 'How much money did Paul Graham make during his time at Interleaf, compared to his previous budget in Florence?',\n",
       " 'What did Paul Graham learn from working at Interleaf that he applied to Viaweb and Y Combinator?',\n",
       " 'What is the meaning of the term \"low end eats the high end\" as used by Paul Graham?',\n",
       " 'In what department of RISD did Paul Graham continue his studies after returning in 1992?',\n",
       " \"Why did Paul Graham find painting students at RISD to be 'post-rigorous'?\",\n",
       " 'What is a signature style in art, and why do buyers pay large sums for such work?',\n",
       " 'In what ways was Interleaf different from conventional office environments, according to Paul Graham?',\n",
       " 'In what year did Paul Graham drop out of RISD?',\n",
       " 'What is a signature style in art and why is it important for artists?',\n",
       " 'Where did Paul Graham move to after leaving RISD and why?',\n",
       " \"Who was Idelle Weber and what role did she play in Paul Graham's life?\",\n",
       " 'In what year did Paul Graham first hear about the World Wide Web?',\n",
       " 'Why did Paul Graham decide to become rich?',\n",
       " \"What was Paul Graham's initial idea for starting a company related to?\",\n",
       " \"Why didn't art galleries want to be put online according to Paul Graham?\",\n",
       " 'In what year did Paul Graham visit Robert Morris in Cambridge and learn about the World Wide Web?',\n",
       " 'How did graphical user interfaces impact the popularity of microcomputers according to Paul Graham?',\n",
       " 'In what year did Paul Graham first hear about the World Wide Web?',\n",
       " \"What was Paul's initial business idea for taking advantage of the World Wide Web?\",\n",
       " 'Which city did Robert Morris attend graduate school in at that time?',\n",
       " \"Why were art galleries reluctant to join Paul and Robert's online platform?\",\n",
       " 'What type of software did Robert write initially for their web project?',\n",
       " 'In what year did Paul and Robert start trying to build online stores?',\n",
       " 'What was the initial plan for where they would run their software?',\n",
       " 'How did Paul come up with the idea for a web application instead of desktop software?',\n",
       " 'When did they successfully create a working prototype of their store builder through the browser?',\n",
       " 'Who provided them with the initial seed funding and what percentage of the company did they receive in return?',\n",
       " 'What was the initial investment amount Paul Graham and his team received from Robert Thau?',\n",
       " 'In what year did they originally plan to launch their business, but ended up delaying due to software ambitions?',\n",
       " 'Who were the two most independent-minded people Paul Graham worked with during the development of Viaweb?',\n",
       " 'What was the price range for small and big stores on Viaweb at its inception?',\n",
       " 'Why did Paul Graham and his team decide to charge such low prices for their ecommerce software compared to competitors?',\n",
       " 'What was the main goal of an online store builder according to Paul Graham, and how did his background in art help him achieve this?',\n",
       " \"Who recommended Trevor Blackwell to join the Viaweb team, and what were Paul Graham's initial impressions of him?\",\n",
       " 'In what ways were Robert Thau and Trevor Blackwell different from each other, both in terms of their personalities and work styles?',\n",
       " 'What was the main challenge Paul Graham faced during the development of Viaweb that required him to recruit more programmers?',\n",
       " 'Why did they decide to delay the launch of their business by a few months, and what impact did this decision have on their success?',\n",
       " \"What was Viaweb's initial pricing strategy and why did it attract many users?\",\n",
       " 'What did Paul Graham and his team learn from building stores for their users?',\n",
       " \"Why did Paul Graham initially think they needed a 'business person' to run their business?\",\n",
       " \"What was the significance of growth rate in determining Viaweb's success?\",\n",
       " \"How did hiring more employees impact Viaweb's financial situation and future control?\",\n",
       " \"What was Paul Graham's experience with the near-death experiences of Viaweb?\",\n",
       " 'Why did Paul Graham feel going from rags to riches when Yahoo bought Viaweb?',\n",
       " 'How did Paul Graham describe his lifestyle before and after Yahoo bought Viaweb?',\n",
       " \"What was the impact of Yahoo's culture on Paul Graham's productivity?\",\n",
       " \"In what ways did the experience of running Viaweb change Paul Graham's perspective on business?\",\n",
       " \"What was the least productive year of Paul's life and why did he feel that way?\",\n",
       " 'Why did Paul leave Yahoo after they bought Viaweb?',\n",
       " \"What were Paul's plans when he left Yahoo and what did his boss think about it?\",\n",
       " 'How did Paul spend his time after leaving Yahoo before returning to New York?',\n",
       " \"What was Paul's experience with painting again after becoming rich?\",\n",
       " 'Describe the new kind of still life technique Paul experimented with.',\n",
       " 'Why did Paul look for an apartment to buy in New York and where did he want to live?',\n",
       " \"What was Paul's realization about Cambridge in New York?\",\n",
       " 'How did Paul feel about resuming his old patterns after becoming rich?',\n",
       " \"What was the significance of Paul's experience with Viaweb for his future plans?\",\n",
       " 'In what year did Paul Graham start working on the idea of building a web app for making web apps?',\n",
       " \"What name did Paul Graham initially give to his new company based on the term 'application service provider' (ASP)?\",\n",
       " 'Why did Paul Graham decide to switch from building a large company to an open source project towards the end of the summer?',\n",
       " 'What is the name of the new dialect of Lisp that Dan and Paul worked on after the summer?',\n",
       " 'In which city did Paul buy a house to work on the new dialect of Lisp with Dan?',\n",
       " 'How many undergrads did Paul recruit for his project during the summer?',\n",
       " \"What was the initial goal of Paul's idea in 2000, as described in the text?\",\n",
       " 'Which programming language did Paul and Dan decide to use for their new application builder?',\n",
       " 'Why did Paul feel the need to hide the parentheses in Lisp when he initially planned to build a web app for making web apps?',\n",
       " 'What was the reaction of the Lisp community when Paul gave his talk about using Lisp at Viaweb at a conference, leading to 30,000 page views on paulgraham.com in one day?',\n",
       " 'In what year did Paul Graham first invite people to his house in Cambridge to work on a new dialect of Lisp?',\n",
       " 'What was the name of the new dialect of Lisp that Paul Graham and Dan were working on?',\n",
       " \"How many page views did Paul Graham's postscript file receive in one day after he gave a talk at a Lisp conference?\",\n",
       " 'Why was it surprising for Paul Graham to realize that anyone could publish anything online in 1998?',\n",
       " 'What was the name of the website where Paul Graham first published his essays online?',\n",
       " \"In what year did O'Reilly reprint a collection of Paul Graham's essays as a book, called Hackers & Painters?\",\n",
       " 'What type of work does Paul Graham suggest is less likely to lead one astray when pursuing ambitious projects?',\n",
       " 'What was the name of the building in Cambridge that Paul Graham bought to use as an office?',\n",
       " 'What did Paul Graham and his friends do every Thursday night before buying the building in Cambridge?',\n",
       " \"In what year did a big party take place at Paul Graham's house in Cambridge, hosted by one of his friends?\",\n",
       " 'In what year did Paul Graham write the essay mentioned in the file?',\n",
       " \"Who were the three separate hosts for the big party at Paul's house?\",\n",
       " \"What was Jessica Livingston's previous job before joining Y Combinator?\",\n",
       " 'Why did Paul and Jessica decide to start their own investment firm instead of working for a VC firm?',\n",
       " 'What were some of the ideas that Paul had been talking about with Robert and Trevor?',\n",
       " \"In what ways did Paul and Jessica's ignorance work in their favor when starting Y Combinator?\",\n",
       " 'How did Paul meet Jessica Livingston?',\n",
       " \"What was unusual about Y Combinator's approach to angel investing at the time?\",\n",
       " 'Who were some of the founders that Jessica interviewed for her book?',\n",
       " 'What was the role of Julian in helping Paul and Susan get started with their company?',\n",
       " \"What was Y Combinator's initial plan before they discovered the batch model?\",\n",
       " \"Who were some of the notable startups that were part of Y Combinator's first batch?\",\n",
       " \"How did Y Combinator's deal for startups compare to the deals typically offered at the time?\",\n",
       " 'What was the inspiration behind the Summer Founders Program and how many applications did it receive?',\n",
       " 'Who were some of the undergraduates that joined the Summer Founders Program and what were their future accomplishments?',\n",
       " \"How did Y Combinator's investment in startups compare to the deals they had made before?\",\n",
       " 'What was the initial funding amount for each founder in the Summer Founders Program and what percentage of equity was given in return?',\n",
       " 'Why did Y Combinator decide to invest in a large number of startups all at once instead of making individual investments?',\n",
       " 'How did the living arrangements for the startups in the Summer Founders Program contribute to their experience?',\n",
       " \"What was the significance of Jessica's contribution during the first summer of the Summer Founders Program?\",\n",
       " 'What was the initial investment amount and percentage taken by Y Combinator from each startup founder in the first batch?',\n",
       " 'Why did Paul Graham believe that funding startups in batches was beneficial for both Y Combinator and the startups?',\n",
       " 'How did the community of alumni help the current batch of startups at Y Combinator?',\n",
       " 'What was the original intention of Paul Graham regarding his involvement with Y Combinator, and how did it change over time?',\n",
       " 'Why did Paul Graham create Hacker News, and what was its initial focus?',\n",
       " 'How did Hacker News impact Y Combinator, and what was the biggest source of stress for Paul Graham related to it?',\n",
       " \"What programming language did Paul Graham use to build the initial version of Y Combinator's infrastructure, and why?\",\n",
       " 'Why did Paul Graham find working on disputes between co-founders and other challenging aspects of his job at Y Combinator?',\n",
       " \"How did the problems faced by startups in each batch become Y Combinator's problems?\",\n",
       " 'What were some advantages of scale that Y Combinator noticed as it grew?',\n",
       " \"What was Paul Graham's role at Y Combinator before he decided to step down?\",\n",
       " 'Who did Paul Graham approach to take over his position as president of Y Combinator?',\n",
       " \"Why did Robert Morris give Paul Graham the advice to make sure Y Combinator wasn't the last cool thing he did?\",\n",
       " 'What event prompted Paul Graham to consider leaving Y Combinator?',\n",
       " 'Who was the person that Paul Graham tried to recruit to become the new president of Y Combinator?',\n",
       " 'Why did Paul Graham focus on his mother during his last few months at Y Combinator?',\n",
       " 'What did Paul Graham decide to do after he left Y Combinator?',\n",
       " 'How long did Paul Graham continue to work for Y Combinator after he decided to step down?',\n",
       " \"What was the reason behind Paul Graham's decision to recruit Sam Altman to take over as president of Y Combinator?\",\n",
       " 'Why did Paul Graham want to focus on painting after he left Y Combinator?',\n",
       " 'In what year did Paul Graham stop working on Y Combinator completely?',\n",
       " 'What did Paul Graham decide to do next after leaving Y Combinator?',\n",
       " 'Why did Paul Graham choose painting as his next endeavor?',\n",
       " 'When did Paul Graham lose interest in the painting he was working on?',\n",
       " \"What is the significance of Lisp's origins as a model of computation?\",\n",
       " 'Who suggested Lisp could be used to program computers and why?',\n",
       " 'How did McCarthy test his original Lisp interpreter?',\n",
       " 'Why did McCarthy not continue using an axiomatic approach for adding features to Lisp?',\n",
       " 'What is the name of the new Lisp that Paul Graham developed called?',\n",
       " 'In which programming language did Paul Graham write Bel, his new Lisp?',\n",
       " 'In what year did Paul Graham start working on his new Lisp, called Bel?',\n",
       " 'What programming language did Paul Graham use to write Bel?',\n",
       " 'How long did it take Paul Graham to complete Bel?',\n",
       " 'Where was the majority of Bel written?',\n",
       " 'Why did Paul Graham ban himself from writing essays during most of the time he was working on Bel?',\n",
       " 'What was the name of the interpreter that Paul Graham wrote in itself for Bel?',\n",
       " 'How did Paul feel about the progress of his work on Bel while he watched his kids play in the tide pools?',\n",
       " 'Why did Paul and his family move to England during the development of Bel?',\n",
       " 'What is the file size of paul_graham_essay.txt?',\n",
       " 'In which year was the creation date for paul_graham_essay.txt?',\n",
       " 'In what year did Paul Graham create his essay, as indicated by the last_modified_date?',\n",
       " 'What type of file is paul_graham_essay.txt?',\n",
       " 'Which Italian words for abstract concepts can nearly always be predicted from their English cognates?',\n",
       " 'Where did Paul Graham live in Florence during his stay there?',\n",
       " 'What was the name of the apartment where Paul Graham lived that was less than half market price?',\n",
       " 'What was the initial set of users called before the public launch of the online store builder?',\n",
       " \"In what decade did Interleaf get crushed by Moore's Law?\",\n",
       " 'How were people able to define their own page styles in Viaweb?',\n",
       " 'What is the difference between putting something on the internet and publishing it online, according to Paul Graham?',\n",
       " 'What is the general lesson that Paul Graham learned from Y Combinator about customs and fields affected by rapid change?',\n",
       " 'What was the original name of Y Combinator before it was renamed?',\n",
       " \"Why did Paul Graham choose orange as the color for Y Combinator's logo?\",\n",
       " 'In what years did Y Combinator become a fund and then return to being self-funded?',\n",
       " \"What is the term 'deal flow' and why does Paul Graham dislike it?\",\n",
       " \"Describe an incident from Paul Graham's past involving air conditioners and carrying heavy objects.\",\n",
       " 'Why did Paul Graham find running HN and writing essays a problematic combination?',\n",
       " \"Who were some people who read drafts of Paul Graham's essay and provided feedback?\",\n",
       " 'What is the difference between invented and discovered concepts according to Paul Graham?',\n",
       " 'Provide an example of a concept that is both discovered and potentially inventable further.',\n",
       " 'Why did leaving YC feel like pulling up a deeply rooted tree for Paul Graham?']"
      ]
     },
     "execution_count": 11,
     "metadata": {},
     "output_type": "execute_result"
    }
   ],
   "source": [
    "eval_questions"
   ]
  },
  {
   "cell_type": "markdown",
   "metadata": {},
   "source": [
    "## 使用 llamaindex 的 FaithfulnessEvaluator 进行评估"
   ]
  },
  {
   "cell_type": "code",
   "execution_count": 12,
   "metadata": {},
   "outputs": [],
   "source": [
    "# evaluator = RelevancyEvaluator(service_context=service_context)\n",
    "faithfulness_evaluator = FaithfulnessEvaluator(service_context=service_context)"
   ]
  },
  {
   "cell_type": "code",
   "execution_count": 13,
   "metadata": {},
   "outputs": [],
   "source": [
    "# 对源数据进行向量化\n",
    "vector_index = VectorStoreIndex.from_documents(\n",
    "    documents, service_context=service_context\n",
    ")"
   ]
  },
  {
   "cell_type": "markdown",
   "metadata": {},
   "source": [
    "### 统计整体的召回成功率"
   ]
  },
  {
   "cell_type": "code",
   "execution_count": null,
   "metadata": {},
   "outputs": [],
   "source": [
    "query_engine = vector_index.as_query_engine()\n",
    "passing = 0\n",
    "\n",
    "for i in range(10):\n",
    "    print(\"第 \" + str(i) + \" 次查询\")\n",
    "    response_vector = query_engine.query(eval_questions[i])\n",
    "    eval_result = faithfulness_evaluator.evaluate_response(\n",
    "        query=eval_questions[i], response=response_vector\n",
    "    )\n",
    "    print(eval_result.passing)\n",
    "    if eval_result.passing:\n",
    "        passing += 1\n",
    "\n",
    "# 输出召回成功率。此处抽样前10个问题，统计全部问题耗时过长\n",
    "print(passing / 10)"
   ]
  },
  {
   "cell_type": "markdown",
   "metadata": {},
   "source": [
    "#### 查看其中一个的召回结果"
   ]
  },
  {
   "cell_type": "code",
   "execution_count": 16,
   "metadata": {},
   "outputs": [],
   "source": [
    "# 定义展示表格\n",
    "# define jupyter display function\n",
    "def display_eval_df(querys: str, response: Response, eval_result: str) -> None:\n",
    "    eval_df = pd.DataFrame(\n",
    "        {\n",
    "            \"Query\": querys,\n",
    "            \"Response\": str(response),\n",
    "            \"Source\": (\n",
    "                response.source_nodes[0].node.get_content()[:1000] + \"...\"\n",
    "            ),\n",
    "            \"Evaluation Result\": eval_result.passing,\n",
    "        },\n",
    "        index=[0],\n",
    "    )\n",
    "    eval_df = eval_df.style.set_properties(\n",
    "        **{\n",
    "            \"inline-size\": \"600px\",\n",
    "            \"overflow-wrap\": \"break-word\",\n",
    "        },\n",
    "        subset=[\"Response\", \"Source\"]\n",
    "    )\n",
    "    display(eval_df)"
   ]
  },
  {
   "cell_type": "code",
   "execution_count": 17,
   "metadata": {},
   "outputs": [
    {
     "name": "stdout",
     "output_type": "stream",
     "text": [
      "INFO:httpx:HTTP Request: POST http://localhost:1234/v1/chat/completions \"HTTP/1.1 200 OK\"\n",
      "HTTP Request: POST http://localhost:1234/v1/chat/completions \"HTTP/1.1 200 OK\"\n",
      "INFO:httpx:HTTP Request: POST http://localhost:1234/v1/chat/completions \"HTTP/1.1 200 OK\"\n",
      "HTTP Request: POST http://localhost:1234/v1/chat/completions \"HTTP/1.1 200 OK\"\n"
     ]
    },
    {
     "data": {
      "text/html": [
       "<style type=\"text/css\">\n",
       "#T_d9f27_row0_col1, #T_d9f27_row0_col2 {\n",
       "  inline-size: 600px;\n",
       "  overflow-wrap: break-word;\n",
       "}\n",
       "</style>\n",
       "<table id=\"T_d9f27\">\n",
       "  <thead>\n",
       "    <tr>\n",
       "      <th class=\"blank level0\" >&nbsp;</th>\n",
       "      <th id=\"T_d9f27_level0_col0\" class=\"col_heading level0 col0\" >Query</th>\n",
       "      <th id=\"T_d9f27_level0_col1\" class=\"col_heading level0 col1\" >Response</th>\n",
       "      <th id=\"T_d9f27_level0_col2\" class=\"col_heading level0 col2\" >Source</th>\n",
       "      <th id=\"T_d9f27_level0_col3\" class=\"col_heading level0 col3\" >Evaluation Result</th>\n",
       "    </tr>\n",
       "  </thead>\n",
       "  <tbody>\n",
       "    <tr>\n",
       "      <th id=\"T_d9f27_level0_row0\" class=\"row_heading level0 row0\" >0</th>\n",
       "      <td id=\"T_d9f27_row0_col0\" class=\"data row0 col0\" >What type of machine was Paul Graham's first experience with computing on?</td>\n",
       "      <td id=\"T_d9f27_row0_col1\" class=\"data row0 col1\" >Paul Graham's first experience with computing was on an IBM System/360 mainframe at Harvard University in the late 1970s.</td>\n",
       "      <td id=\"T_d9f27_row0_col2\" class=\"data row0 col2\" >What I Worked On\n",
       "\n",
       "February 2021\n",
       "\n",
       "Before college the two main things I worked on, outside of school, were writing and programming. I didn't write essays. I wrote what beginning writers were supposed to write then, and probably still are: short stories. My stories were awful. They had hardly any plot, just characters with strong feelings, which I imagined made them deep.\n",
       "\n",
       "The first programs I tried writing were on the IBM 1401 that our school district used for what was then called \"data processing.\" This was in 9th grade, so I was 13 or 14. The school district's 1401 happened to be in the basement of our junior high school, and my friend Rich Draves and I got permission to use it. It was like a mini Bond villain's lair down there, with all these alien-looking machines — CPU, disk drives, printer, card reader — sitting up on a raised floor under bright fluorescent lights.\n",
       "\n",
       "The language we used was an early version of Fortran. You had to type programs on punch cards, then stack them in the...</td>\n",
       "      <td id=\"T_d9f27_row0_col3\" class=\"data row0 col3\" >False</td>\n",
       "    </tr>\n",
       "  </tbody>\n",
       "</table>\n"
      ],
      "text/plain": [
       "<pandas.io.formats.style.Styler at 0x1c108a8a310>"
      ]
     },
     "metadata": {},
     "output_type": "display_data"
    }
   ],
   "source": [
    "query_engine = vector_index.as_query_engine()\n",
    "response_vector = query_engine.query(eval_questions[1])\n",
    "eval_result = evaluator.evaluate_response(\n",
    "    query=eval_questions[1], response=response_vector\n",
    ")\n",
    "\n",
    "# 输出其中一个的结果\n",
    "display_eval_df(eval_questions[1], response_vector, eval_result)"
   ]
  }
 ],
 "metadata": {
  "kernelspec": {
   "display_name": "llamaindex-learning",
   "language": "python",
   "name": "python3"
  },
  "language_info": {
   "codemirror_mode": {
    "name": "ipython",
    "version": 3
   },
   "file_extension": ".py",
   "mimetype": "text/x-python",
   "name": "python",
   "nbconvert_exporter": "python",
   "pygments_lexer": "ipython3",
   "version": "3.11.7"
  }
 },
 "nbformat": 4,
 "nbformat_minor": 2
}
